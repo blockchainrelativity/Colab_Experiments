{
  "nbformat": 4,
  "nbformat_minor": 0,
  "metadata": {
    "colab": {
      "provenance": [],
      "authorship_tag": "ABX9TyPsugEVQoC54uSiY5uxRFPZ",
      "include_colab_link": true
    },
    "kernelspec": {
      "name": "python3",
      "display_name": "Python 3"
    },
    "language_info": {
      "name": "python"
    }
  },
  "cells": [
    {
      "cell_type": "markdown",
      "metadata": {
        "id": "view-in-github",
        "colab_type": "text"
      },
      "source": [
        "<a href=\"https://colab.research.google.com/github/blockchainrelativity/Colab_Experiments/blob/main/notion_tasks.ipynb\" target=\"_parent\"><img src=\"https://colab.research.google.com/assets/colab-badge.svg\" alt=\"Open In Colab\"/></a>"
      ]
    },
    {
      "cell_type": "code",
      "execution_count": null,
      "metadata": {
        "id": "bPs2TB7xUzsl"
      },
      "outputs": [],
      "source": [
        "from google.colab import drive\n",
        "drive.mount('/content/drive')"
      ]
    },
    {
      "cell_type": "code",
      "source": [
        "# Import file here from Notion DB\n",
        "# May need to unzip first\n"
      ],
      "metadata": {
        "id": "i1SdNnw_Ye6k"
      },
      "execution_count": null,
      "outputs": []
    },
    {
      "cell_type": "code",
      "source": [
        "import openai\n",
        "import os\n",
        "import argparse\n",
        "import pandas as pd\n",
        "import datetime\n",
        "# import openai\n",
        "# import openai"
      ],
      "metadata": {
        "id": "mGCAmDIEU8Oc"
      },
      "execution_count": null,
      "outputs": []
    },
    {
      "cell_type": "code",
      "source": [
        "def get_response(prompt_question)\n",
        "  response = openai.ChatCompletion.create{\n",
        "      model=\"gpt-3.5-turbo\"\n",
        "      messages=[{\"role\": \"system\", \"content\": \"\"}, {\"role\": \"project_manager\", \"content\": \"You are to assist in making these tasks more efficient and better use of our time\"}, {\"role\": \"user\", \"content\": prompt_question }]\n",
        "  }\n",
        "  return response[\"choices\"][0][\"messages\"][\"content\"]"
      ],
      "metadata": {
        "id": "__qKDuHuU8JI"
      },
      "execution_count": null,
      "outputs": []
    },
    {
      "cell_type": "code",
      "source": [
        "OPENAI_API_KEY = 'sk-'\n",
        "import os\n",
        "os.environ['OPENAI_API_KEY'] = OPENAI_API_KEY\n",
        "openai.api_key = OPENAI_API_KEY"
      ],
      "metadata": {
        "id": "Y0i5K-VhU8D-"
      },
      "execution_count": null,
      "outputs": []
    },
    {
      "cell_type": "code",
      "source": [
        "tasks = pd.read_csv(\"./tasks.csv\")\n",
        "\n",
        "current_date = datetime.date.today()\n",
        "date_today = current_date.strftime(\"%m/%d/%Y\")\n",
        "tasks = tasks.to_string(index=False)"
      ],
      "metadata": {
        "id": "M-fd7w2BU7-4"
      },
      "execution_count": null,
      "outputs": []
    },
    {
      "cell_type": "code",
      "source": [
        "###########################\n",
        "# I have decided to take another route and use langchain to use agents for this"
      ],
      "metadata": {
        "id": "8lG60KcQU75m"
      },
      "execution_count": null,
      "outputs": []
    },
    {
      "cell_type": "code",
      "source": [],
      "metadata": {
        "id": "uUeB9ZfSU7xB"
      },
      "execution_count": null,
      "outputs": []
    }
  ]
}