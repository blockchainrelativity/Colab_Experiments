{
  "nbformat": 4,
  "nbformat_minor": 0,
  "metadata": {
    "colab": {
      "provenance": [],
      "include_colab_link": true
    },
    "kernelspec": {
      "name": "python3",
      "display_name": "Python 3"
    },
    "language_info": {
      "name": "python"
    },
    "accelerator": "GPU",
    "gpuClass": "standard"
  },
  "cells": [
    {
      "cell_type": "markdown",
      "metadata": {
        "id": "view-in-github",
        "colab_type": "text"
      },
      "source": [
        "<a href=\"https://colab.research.google.com/github/blockchainrelativity/Colab_Experiments/blob/main/bark_demo.ipynb\" target=\"_parent\"><img src=\"https://colab.research.google.com/assets/colab-badge.svg\" alt=\"Open In Colab\"/></a>"
      ]
    },
    {
      "cell_type": "markdown",
      "source": [
        "## Install"
      ],
      "metadata": {
        "id": "NO47mAC5iGH7"
      }
    },
    {
      "cell_type": "code",
      "source": [
        "# install bark (make sure you have torch>=2 for much faster flash-attention)\n",
        "!pip install git+https://github.com/suno-ai/bark.git"
      ],
      "metadata": {
        "id": "YkizeTpG_3T7"
      },
      "execution_count": null,
      "outputs": []
    },
    {
      "cell_type": "markdown",
      "source": [
        "## Basics"
      ],
      "metadata": {
        "id": "7Ge31CAciLNJ"
      }
    },
    {
      "cell_type": "code",
      "source": [
        "from bark import SAMPLE_RATE, generate_audio, preload_models\n",
        "from IPython.display import Audio\n",
        "\n",
        "preload_models()"
      ],
      "metadata": {
        "id": "t9Vlr3RRt6B9"
      },
      "execution_count": null,
      "outputs": []
    },
    {
      "cell_type": "code",
      "source": [
        "text_prompt = \"\"\"\n",
        "     Hello, my name is Suno. And, uh — and I like pizza. [laughs]\n",
        "     But I also have other interests such as playing tic tac toe.\n",
        "\"\"\"\n",
        "audio_array = generate_audio(text_prompt)\n",
        "Audio(audio_array, rate=SAMPLE_RATE)"
      ],
      "metadata": {
        "id": "NyYQ--3YksJY"
      },
      "execution_count": null,
      "outputs": []
    },
    {
      "cell_type": "markdown",
      "source": [
        "## Advanced examples"
      ],
      "metadata": {
        "id": "b5rDDPxrRAKa"
      }
    },
    {
      "cell_type": "code",
      "source": [
        "text_prompt = \"\"\"\n",
        "    Buenos días Miguel. Tu colega piensa que tu alemán es extremadamente malo.\n",
        "    But I suppose your english isn't terrible.\n",
        "\"\"\"\n",
        "audio_array = generate_audio(text_prompt)\n",
        "Audio(audio_array, rate=SAMPLE_RATE)"
      ],
      "metadata": {
        "id": "RnYiRaffReIW"
      },
      "execution_count": null,
      "outputs": []
    },
    {
      "cell_type": "code",
      "source": [
        "text_prompt = \"\"\"\n",
        "    WOMAN: I would like an oatmilk latte please.\n",
        "    MAN: Wow, that's expensive!\n",
        "\"\"\"\n",
        "audio_array = generate_audio(text_prompt)\n",
        "Audio(audio_array, rate=SAMPLE_RATE)"
      ],
      "metadata": {
        "id": "y2XOBRFhReDy"
      },
      "execution_count": null,
      "outputs": []
    },
    {
      "cell_type": "code",
      "source": [
        "text_prompt = \"\"\"\n",
        "    I have a silky smooth voice, and today I will tell you\n",
        "    about the exercise regimen of the common sloth.\n",
        "\"\"\"\n",
        "audio_array = generate_audio(text_prompt, history_prompt=\"v2/en_speaker_1\")\n",
        "Audio(audio_array, rate=SAMPLE_RATE)"
      ],
      "metadata": {
        "id": "6p153cqEmXLA"
      },
      "execution_count": null,
      "outputs": []
    },
    {
      "cell_type": "code",
      "source": [],
      "metadata": {
        "id": "Cl01EACYRdgy"
      },
      "execution_count": null,
      "outputs": []
    },
    {
      "cell_type": "code",
      "source": [],
      "metadata": {
        "id": "qGSEorjKkr4u"
      },
      "execution_count": null,
      "outputs": []
    }
  ]
}