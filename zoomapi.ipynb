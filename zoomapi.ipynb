{
  "nbformat": 4,
  "nbformat_minor": 0,
  "metadata": {
    "colab": {
      "provenance": [],
      "authorship_tag": "ABX9TyPO/TXyG/Wb6S0p08sjSDv6",
      "include_colab_link": true
    },
    "kernelspec": {
      "name": "python3",
      "display_name": "Python 3"
    },
    "language_info": {
      "name": "python"
    }
  },
  "cells": [
    {
      "cell_type": "markdown",
      "metadata": {
        "id": "view-in-github",
        "colab_type": "text"
      },
      "source": [
        "<a href=\"https://colab.research.google.com/github/blockchainrelativity/Colab_Experiments/blob/main/zoomapi.ipynb\" target=\"_parent\"><img src=\"https://colab.research.google.com/assets/colab-badge.svg\" alt=\"Open In Colab\"/></a>"
      ]
    },
    {
      "cell_type": "code",
      "execution_count": null,
      "metadata": {
        "id": "vvz97WUMlRcv"
      },
      "outputs": [],
      "source": [
        "# Import necessary libraries\n",
        "import requests\n",
        "import json\n",
        "import pandas as pd\n",
        "import google.auth\n",
        "import streamlit as st\n",
        "from google.cloud import bigquery\n",
        "from google.oauth2.credentials import Credentials\n",
        "from flask import Flask\n",
        "from pyngrok import ngrok"
      ]
    },
    {
      "cell_type": "code",
      "source": [
        "# This is a streamlit solution for the next 5 blocks\n",
        "!pip install jedi\n",
        "!pip install streamlit -q\n",
        "\n"
      ],
      "metadata": {
        "id": "HWxE_oJsN3L8"
      },
      "execution_count": null,
      "outputs": []
    },
    {
      "cell_type": "code",
      "source": [
        "%%writefile app.py\n",
        "st.write('#D.cypher')\n",
        "st.write('##Insight.IQ')"
      ],
      "metadata": {
        "colab": {
          "base_uri": "https://localhost:8080/"
        },
        "id": "L-I_Kw2kSXYC",
        "outputId": "4b3e8c2f-793f-4560-8362-ac7ad02aa15c"
      },
      "execution_count": null,
      "outputs": [
        {
          "output_type": "stream",
          "name": "stdout",
          "text": [
            "Writing app.py\n"
          ]
        }
      ]
    },
    {
      "cell_type": "code",
      "source": [
        "!pip install pyngrok\n",
        "# !pip install flask==0.12.2"
      ],
      "metadata": {
        "id": "llarojgTI_xA"
      },
      "execution_count": null,
      "outputs": []
    },
    {
      "cell_type": "code",
      "source": [
        "ngrok_auth_token = ''\n",
        "port_number = '5000'\n",
        "# ngrok.set_auth_token(ngrok_auth_token)\n",
        "# public_url = ngrok.connect(5000).public_url"
      ],
      "metadata": {
        "id": "ocdhd99K5iPK"
      },
      "execution_count": null,
      "outputs": []
    },
    {
      "cell_type": "code",
      "source": [
        "from pyngrok import ngrok\n",
        "ngrok.set_auth_token(ngrok_auth_token)"
      ],
      "metadata": {
        "id": "oBgZxmEtOxeA"
      },
      "execution_count": null,
      "outputs": []
    },
    {
      "cell_type": "code",
      "source": [
        "!nohup streamlit run app.py --server.port port_number &\n",
        "public_url =  ngrok.connect(port_number).public_url\n",
        "print(public_url)"
      ],
      "metadata": {
        "id": "bvEiUboiPGKw"
      },
      "execution_count": null,
      "outputs": []
    },
    {
      "cell_type": "code",
      "source": [
        "  # Get the authorization code from the query parameters\n",
        "  # authorization_code = request.args.get(\"code\")\n",
        "\n",
        "  # Exchange the authorization code for an access token\n",
        "  response = requests.post(\"https://zoom.us/oauth/token\", data={\n",
        "      \"grant_type\": \"authorization_code\",\n",
        "      \"redirect_uri\": public_url,\n",
        "      \"client_id\": CLIENT_ID,\n",
        "      \"client_secret\": CLIENT_SECRET\n",
        "  })\n",
        "\n",
        "  # Check the response status code\n",
        "  if response.status_code != 200:\n",
        "      raise Exception(\"Failed to get access token: \" + response.text)\n",
        "\n",
        "  # Extract the access token from the response\n",
        "  access_token = response.json()[\"access_token\"]\n",
        "\n",
        "  # Store the access token for later use\n",
        "  # ...\n",
        "\n",
        "  return redirect(\"/\")"
      ],
      "metadata": {
        "id": "5bYV3o-YPLEE"
      },
      "execution_count": null,
      "outputs": []
    },
    {
      "cell_type": "code",
      "source": [
        "# This is a flask solution to run app for auth token\n",
        "# app = Flask(__name__)\n",
        "# ngrok.set_auth_token(ngrok_auth_token)\n",
        "# public_url =  ngrok.connect(port_number).public_url\n",
        "\n",
        "# @app.route(\"/\")\n",
        "# def home():\n",
        "#     return f\"Running Flask on Google Colab!\"\n",
        "\n",
        "# print(f\"To access the Global link please click {public_url}\")\n",
        "\n",
        "# app.run(port=port_number)"
      ],
      "metadata": {
        "id": "trm9DQKdIO6a"
      },
      "execution_count": null,
      "outputs": []
    },
    {
      "cell_type": "code",
      "source": [
        "CLIENT_ID = ''\n",
        "CLIENT_SECRET = ''\n",
        "ACCOUNT_ID = ''\n",
        "redirect_uri = 'http://.ngrok.io/'"
      ],
      "metadata": {
        "id": "qpSW-qXk2uHk"
      },
      "execution_count": null,
      "outputs": []
    },
    {
      "cell_type": "code",
      "source": [
        "from flask import Flask, request, redirect\n",
        "import requests\n",
        "\n",
        "app = Flask(__name__)\n",
        "\n",
        "@app.route(\"/oauth/redirect\")\n",
        "def handle_redirect():\n",
        "    # Get the authorization code from the query parameters\n",
        "    authorization_code = request.args.get(\"code\")\n",
        "\n",
        "    # Exchange the authorization code for an access token\n",
        "    response = requests.post(\"https://zoom.us/oauth/token\", data={\n",
        "        \"grant_type\": \"authorization_code\",\n",
        "        \"redirect_uri\": public_url,\n",
        "        \"client_id\": CLIENT_ID,\n",
        "        \"client_secret\": CLIENT_SECRET\n",
        "    })\n",
        "\n",
        "    # Check the response status code\n",
        "    if response.status_code != 200:\n",
        "        raise Exception(\"Failed to get access token: \" + response.text)\n",
        "\n",
        "    # Extract the access token from the response\n",
        "    access_token = response.json()[\"access_token\"]\n",
        "\n",
        "    # Store the access token for later use\n",
        "    # ...\n",
        "\n",
        "    return redirect(\"/\")\n",
        "\n",
        "\n"
      ],
      "metadata": {
        "id": "le6Z4n2LDyZn"
      },
      "execution_count": null,
      "outputs": []
    },
    {
      "cell_type": "code",
      "source": [
        "# # Set Google OAuth credentials\n",
        "# creds = Credentials.from_authorized_user_info(info={\"access_token\": '$ACCESS_TOKEN',\n",
        "#                                                      \"refresh_token\": '$REFRESH_TOKEN',\n",
        "#                                                      \"client_id\": '$CLIENT_ID',\n",
        "#                                                      \"client_secret\": '$CLIENT_SECRET'})\n",
        "# print(creds.refresh)"
      ],
      "metadata": {
        "id": "1INwUfp7mubo"
      },
      "execution_count": null,
      "outputs": []
    },
    {
      "cell_type": "code",
      "source": [
        "# Refresh the access token\n",
        "# creds.refresh(google.auth.transport.requests.Request())\n",
        "# response = requests.get(\"https://zoom.us/oauth/token?response_type=code&client_id={{CLIENT_ID}}&redirect_uri={{redirectUriOAuthDev}}\")\n",
        "# Make API call to Zoom to get transcriptions\n",
        "response = requests.get(\"https://api.zoom.us/v2/past_webinars/transcripts\", headers={\"Authorization\": \"Bearer \" + access_token})\n",
        "\n",
        "# Check response status\n",
        "if response.status_code != 200:\n",
        "    raise Exception(\"Failed to get transcriptions: \" + response.text)\n",
        "\n",
        "# Extract transcriptions from response\n",
        "transcriptions = response.json()\n"
      ],
      "metadata": {
        "id": "fmS0cozKmxNl"
      },
      "execution_count": null,
      "outputs": []
    },
    {
      "cell_type": "code",
      "source": [
        "# # After joining a session, call client.getLiveTranscriptionClient() to get the live transcription and translation client.\n",
        "# const liveTranscriptionTranslation = client.getLiveTranscriptionClient();\n",
        "# # To start live transcription and translation, call the liveTranscriptionTranslation.startLiveTranscription() function.\n",
        "# liveTranscriptionTranslation.startLiveTranscription();\n",
        "# # To receive speech text, add the following event listener.\n",
        "# client.on(`caption-message`, (payload) => {\n",
        "#   console.log(payload)\n",
        "#   console.log(`${payload.displayName} said: ${payload.text}`);\n",
        "# });"
      ],
      "metadata": {
        "id": "wxty2PuewBl5"
      },
      "execution_count": null,
      "outputs": []
    },
    {
      "cell_type": "code",
      "source": [
        "# Create a pandas dataframe from the transcriptions\n",
        "df = pd.DataFrame(transcriptions)\n"
      ],
      "metadata": {
        "id": "ca8UEzUIm17e"
      },
      "execution_count": null,
      "outputs": []
    },
    {
      "cell_type": "code",
      "source": [
        "# Use Google Cloud Natural Language API to extract classifications\n",
        "def extract_classifications(text):\n",
        "    # Request Body\n",
        "    body = {\n",
        "        \"document\": {\n",
        "            \"type\": \"PLAIN_TEXT\",\n",
        "            \"content\": text\n",
        "        },\n",
        "        \"encoding_type\": \"UTF8\"\n",
        "    }\n",
        "\n",
        "    # Make API call to Google Cloud Natural Language API\n",
        "    response = requests.post(\"https://language.googleapis.com/v1/documents:analyzeEntities\",\n",
        "                             headers={\"Authorization\": \"Bearer \" + credentials.token,\n",
        "                                      \"Content-Type\": \"application/json\"},\n",
        "                             json=body)\n",
        "\n",
        "    # Check response status\n",
        "    if response.status_code != 200:\n",
        "        raise Exception(\"Failed to extract classifications: \" + response.text)\n",
        "\n",
        "    # Extract entities from response\n",
        "    entities = response.json()[\"entities\"]\n",
        "\n",
        "    # Return entity types\n",
        "    return [entity[\"type\"] for entity in entities]\n"
      ],
      "metadata": {
        "id": "tBG8MpDNm6a5"
      },
      "execution_count": null,
      "outputs": []
    },
    {
      "cell_type": "code",
      "source": [
        "# Add classifications to the dataframe\n",
        "df[\"classifications\"] = df[\"transcription\"].apply(extract_classifications)\n",
        "\n",
        "# Load dataframe into BigQuery\n",
        "bigquery_client = bigquery.Client(project=project_id, credentials=credentials)\n",
        "table_id = PROJECT_ID + \".\" + DATASET_ID + \".\" + TABLE_ID\n",
        "df.to_gbq(table_id, if_exists=\"replace\")\n",
        "\n",
        "# Print success message\n",
        "print(\"Data loaded successfully to BigQuery\")"
      ],
      "metadata": {
        "id": "PP4dgwUpnBUM"
      },
      "execution_count": null,
      "outputs": []
    }
  ]
}