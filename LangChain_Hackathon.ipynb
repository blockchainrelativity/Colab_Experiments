{
  "nbformat": 4,
  "nbformat_minor": 0,
  "metadata": {
    "colab": {
      "provenance": [],
      "include_colab_link": true
    },
    "kernelspec": {
      "name": "python3",
      "display_name": "Python 3"
    },
    "language_info": {
      "name": "python"
    }
  },
  "cells": [
    {
      "cell_type": "markdown",
      "metadata": {
        "id": "view-in-github",
        "colab_type": "text"
      },
      "source": [
        "<a href=\"https://colab.research.google.com/github/blockchainrelativity/Colab_Experiments/blob/main/LangChain_Hackathon.ipynb\" target=\"_parent\"><img src=\"https://colab.research.google.com/assets/colab-badge.svg\" alt=\"Open In Colab\"/></a>"
      ]
    },
    {
      "cell_type": "code",
      "source": [
        "!pip install langchain\n",
        "!pip install openai"
      ],
      "metadata": {
        "id": "QE7F8B3WsrWF"
      },
      "execution_count": null,
      "outputs": []
    },
    {
      "cell_type": "code",
      "execution_count": null,
      "metadata": {
        "id": "oFCiqhSOspqK"
      },
      "outputs": [],
      "source": [
        "import os\n",
        "from langchain.agents import Tool\n",
        "from langchain.memory import ConversationBufferMemory\n",
        "from langchain.chat_models import ChatOpenAI\n",
        "from langchain.utilities import SerpAPIWrapper\n",
        "from langchain.agents import initialize_agent\n",
        "from langchain.prompts import ChatPromptTemplate, SystemMessagePromptTemplate, HumanMessagePromptTemplate\n",
        "\n",
        "os.environ[\"OPENAI_API_KEY\"] = ''\n",
        "os.environ[\"SERPAPI_API_KEY\"] = ''\n",
        "\n",
        "# Initialize the chat model and other components\n",
        "search = SerpAPIWrapper()\n",
        "tools = [\n",
        "    Tool(\n",
        "        name=\"Current Search\",\n",
        "        func=search.run,\n",
        "        description=\"Useful for answering questions about current events or the current state of the world. The input should be a single search term.\"\n",
        "    ),\n",
        "]\n",
        "memory = ConversationBufferMemory(memory_key=\"chat_history\", return_messages=True)\n",
        "llm = ChatOpenAI(temperature=0)\n",
        "agent_chain = initialize_agent(tools, llm, agent='chat-conversational-react-description', verbose=True, memory=memory)\n",
        "\n",
        "# Prompt templates for collecting user skills and years of experience\n",
        "skills_prompt_template = HumanMessagePromptTemplate.from_template(\"Please provide your skills:\")\n",
        "experience_prompt_template = HumanMessagePromptTemplate.from_template(\"Please enter your years of experience:\")\n",
        "\n",
        "# Create a chat prompt template with system message and user inputs\n",
        "chat_prompt = ChatPromptTemplate.from_messages([\n",
        "    SystemMessagePromptTemplate.from_template(\"Hello! I am here to assist you with your skills and capabilities.\"),\n",
        "    skills_prompt_template,\n",
        "    experience_prompt_template\n",
        "])\n",
        "\n",
        "# Collect user skills and years of experience\n",
        "response = agent_chain.run(input=chat_prompt.format_prompt().to_messages())\n",
        "\n",
        "# Extract user inputs from the response\n",
        "user_skills = response['messages'][-2]['content']\n",
        "years_of_experience = response['messages'][-1]['content']\n",
        "\n",
        "# Provide feedback based on user input\n",
        "feedback = \"\"\n",
        "if len(user_skills.split(',')) >= 3:\n",
        "    feedback += \"Great! You have a strong set of skills. \"\n",
        "else:\n",
        "    feedback += \"You have a decent set of skills. \"\n",
        "\n",
        "if int(years_of_experience) >= 5:\n",
        "    feedback += \"Your years of experience demonstrate a solid foundation. \"\n",
        "else:\n",
        "    feedback += \"With more experience, you can further strengthen your capabilities. \"\n",
        "\n",
        "# Assist the user with recommendations and advice\n",
        "assistance_prompt_template = HumanMessagePromptTemplate.from_template(f\"{feedback} How can I assist you further?\")\n",
        "chat_prompt_assistance = ChatPromptTemplate.from_messages([\n",
        "    SystemMessagePromptTemplate.from_template(\"Sure! Here are some recommendations and advice:\"),\n",
        "    assistance_prompt_template\n",
        "])\n",
        "\n",
        "# Ask for further assistance and provide recommendations\n",
        "response_assistance = agent_chain.run(input=chat_prompt_assistance.format_prompt().to_messages())\n",
        "\n",
        "# Extract user's response to assistance prompt\n",
        "user_assistance_response = response_assistance['messages'][-1]['content']\n",
        "\n",
        "# Process user's response and provide appropriate assistance\n",
        "# ... (Add your own logic here based on the user's response)\n",
        "\n",
        "# Print the agent's response\n",
        "print(response_assistance['messages'][-1]['content'])\n"
      ]
    }
  ]
}